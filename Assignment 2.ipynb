{
 "cells": [
  {
   "cell_type": "markdown",
   "id": "f5afb91a",
   "metadata": {},
   "source": [
    "## Task 2\n",
    "## Registration/Referral id = AIRSS150\n",
    "## Full Name : Santoshi Dinesh Pande\n"
   ]
  },
  {
   "cell_type": "markdown",
   "id": "714c9323",
   "metadata": {},
   "source": [
    "###  Q1 Write a lambda expression to extract first word of string"
   ]
  },
  {
   "cell_type": "code",
   "execution_count": 1,
   "id": "d4c88b68",
   "metadata": {},
   "outputs": [
    {
     "name": "stdout",
     "output_type": "stream",
     "text": [
      "Everything\n"
     ]
    }
   ],
   "source": [
    "a = \"Everything is good\"\n",
    "b = lambda y : y.split()[0]\n",
    "print(b(a))"
   ]
  },
  {
   "cell_type": "markdown",
   "id": "3082bc3b",
   "metadata": {},
   "source": [
    "### Q2 Write a function to extract first word of string (with many words seperated by space)"
   ]
  },
  {
   "cell_type": "code",
   "execution_count": 2,
   "id": "7787add9",
   "metadata": {},
   "outputs": [
    {
     "name": "stdout",
     "output_type": "stream",
     "text": [
      "The\n"
     ]
    }
   ],
   "source": [
    "def fun():\n",
    "    x = \"The way to get started is to quit talking and begin doing.\"\n",
    "    print( x.split()[0])\n",
    "fun()"
   ]
  },
  {
   "cell_type": "markdown",
   "id": "63d465e3",
   "metadata": {},
   "source": [
    "### Q3 Extract the first word  from every string from a list of strings by using a map function "
   ]
  },
  {
   "cell_type": "code",
   "execution_count": 3,
   "id": "6cbbc258",
   "metadata": {},
   "outputs": [
    {
     "name": "stdout",
     "output_type": "stream",
     "text": [
      "['Write', 'Code', 'press']\n"
     ]
    }
   ],
   "source": [
    "def fun(x):\n",
    "    return ( x.split()[0])\n",
    "\n",
    "string =[\"Write your code in this editor\",\n",
    "       \"Code CompileRun and Debug python program online\",\n",
    "       \"press  button to execute it\"]\n",
    "       \n",
    "result = map(fun , string)\n",
    "print(list(result))"
   ]
  },
  {
   "cell_type": "markdown",
   "id": "b539b65a",
   "metadata": {},
   "source": [
    "### Q4 Write a function to return a list of prime factors of a given number "
   ]
  },
  {
   "cell_type": "code",
   "execution_count": 4,
   "id": "9d6721e9",
   "metadata": {},
   "outputs": [
    {
     "name": "stdout",
     "output_type": "stream",
     "text": [
      "[2, 3, 3, 5, 7]\n",
      "[13]\n"
     ]
    }
   ],
   "source": [
    "def prime_fact(x):\n",
    "    prime_factors = []\n",
    "    divisor = 2\n",
    "    while divisor <= x:\n",
    "        if x%divisor == 0:\n",
    "            prime_factors.append(divisor)\n",
    "            x = x/divisor \n",
    "        else:\n",
    "            divisor += 1 #divisor = divisor + 1nction \n",
    "    return prime_factors\n",
    "\n",
    "print(prime_fact(630))\n",
    "print(prime_fact(13))"
   ]
  },
  {
   "cell_type": "markdown",
   "id": "26417e1d",
   "metadata": {},
   "source": [
    "### Q5 Write function  that finds 2nd largest among 4 numbers(Repetitions are allowed ,without sorting)"
   ]
  },
  {
   "cell_type": "code",
   "execution_count": 5,
   "id": "02dae213",
   "metadata": {},
   "outputs": [
    {
     "name": "stdout",
     "output_type": "stream",
     "text": [
      "3\n"
     ]
    }
   ],
   "source": [
    "def second_largest(numbers):\n",
    "  if (len(numbers)<2):\n",
    "    return\n",
    "  if ((len(numbers)==2)  and (numbers[0] == numbers[1]) ):\n",
    "    return\n",
    "  dup_items = set()\n",
    "  uniq_items = []\n",
    "  for x in numbers:\n",
    "    if x not in dup_items:\n",
    "      uniq_items.append(x)\n",
    "      dup_items.add(x)\n",
    "  uniq_items.sort()    \n",
    "  return  uniq_items[-2]   \n",
    "print(second_largest([1,2,3,4,4]))"
   ]
  },
  {
   "cell_type": "code",
   "execution_count": null,
   "id": "38df2c70",
   "metadata": {},
   "outputs": [],
   "source": []
  }
 ],
 "metadata": {
  "kernelspec": {
   "display_name": "Python 3",
   "language": "python",
   "name": "python3"
  },
  "language_info": {
   "codemirror_mode": {
    "name": "ipython",
    "version": 3
   },
   "file_extension": ".py",
   "mimetype": "text/x-python",
   "name": "python",
   "nbconvert_exporter": "python",
   "pygments_lexer": "ipython3",
   "version": "3.8.8"
  }
 },
 "nbformat": 4,
 "nbformat_minor": 5
}
