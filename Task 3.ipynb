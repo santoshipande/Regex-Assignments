{
 "cells": [
  {
   "cell_type": "markdown",
   "id": "58f01460",
   "metadata": {},
   "source": [
    "### Task 3\n",
    "### Registration/Referral id : AIRSS150\n",
    "### Name : Santoshi Dinesh Pande "
   ]
  },
  {
   "cell_type": "markdown",
   "id": "3bc4aa2b",
   "metadata": {},
   "source": [
    "#### Q1. Write a function to return nth term of fibonacci sequence"
   ]
  },
  {
   "cell_type": "code",
   "execution_count": 3,
   "id": "cc728d32",
   "metadata": {},
   "outputs": [
    {
     "name": "stdout",
     "output_type": "stream",
     "text": [
      "Enter the number :9\n",
      "21\n"
     ]
    }
   ],
   "source": [
    "def Fibonacci(n):\n",
    "    if n<= 0:\n",
    "        print(\"Incorrect input\")\n",
    "    elif n == 1:\n",
    "        return 0\n",
    "    elif n == 2:\n",
    "        return 1\n",
    "    else:\n",
    "        return Fibonacci(n-1)+Fibonacci(n-2)\n",
    "n = int(input(\"Enter the number :\"))\n",
    " \n",
    "print(Fibonacci(n))"
   ]
  },
  {
   "cell_type": "markdown",
   "id": "04d4a090",
   "metadata": {},
   "source": [
    "#### Q2 Write a function to find out GCD of two numbers using EUCLID'S algorithm "
   ]
  },
  {
   "cell_type": "code",
   "execution_count": 1,
   "id": "135b4397",
   "metadata": {},
   "outputs": [
    {
     "name": "stdout",
     "output_type": "stream",
     "text": [
      "Enter the number :98\n",
      "Enter the number :56\n",
      "GCD of 98 and 56 is 14\n"
     ]
    }
   ],
   "source": [
    "def gcd(a, b):\n",
    "  \n",
    "    if (a == 0):\n",
    "        return b\n",
    "    if (b == 0):\n",
    "        return a\n",
    "  \n",
    "    if (a == b):\n",
    "        return a\n",
    "\n",
    "    if (a > b):\n",
    "        return gcd(a-b, b)\n",
    "    return gcd(a, b-a)\n",
    "  \n",
    "a = int(input(\"Enter the number :\"))\n",
    "b = int(input(\"Enter the number :\"))\n",
    "if(gcd(a, b)):\n",
    "    print('GCD of', a, 'and', b, 'is', gcd(a, b))\n",
    "else:\n",
    "    print('not found')"
   ]
  },
  {
   "cell_type": "markdown",
   "id": "3ced5f91",
   "metadata": {},
   "source": [
    "### Q3 Write a function to find LCM of numbers in most optimizers way"
   ]
  },
  {
   "cell_type": "code",
   "execution_count": 2,
   "id": "2d422048",
   "metadata": {},
   "outputs": [
    {
     "name": "stdout",
     "output_type": "stream",
     "text": [
      "Enter first number: 3\n",
      "Enter second number: 4\n",
      "The L.C.M. of 3 and 4 is 12\n"
     ]
    }
   ],
   "source": [
    "def calculate_lcm(x, y):    \n",
    "    if x > y:  \n",
    "        greater = x  \n",
    "    else:  \n",
    "        greater = y  \n",
    "    while(True):  \n",
    "        if((greater % x == 0) and (greater % y == 0)):  \n",
    "            lcm = greater  \n",
    "            break  \n",
    "        greater += 1  \n",
    "    return lcm    \n",
    "  \n",
    "num1 = int(input(\"Enter first number: \"))  \n",
    "num2 = int(input(\"Enter second number: \"))  \n",
    "print(\"The L.C.M. of\", num1,\"and\", num2,\"is\", calculate_lcm(num1, num2))  "
   ]
  },
  {
   "cell_type": "code",
   "execution_count": null,
   "id": "40ef2f46",
   "metadata": {},
   "outputs": [],
   "source": []
  }
 ],
 "metadata": {
  "kernelspec": {
   "display_name": "Python 3",
   "language": "python",
   "name": "python3"
  },
  "language_info": {
   "codemirror_mode": {
    "name": "ipython",
    "version": 3
   },
   "file_extension": ".py",
   "mimetype": "text/x-python",
   "name": "python",
   "nbconvert_exporter": "python",
   "pygments_lexer": "ipython3",
   "version": "3.8.8"
  }
 },
 "nbformat": 4,
 "nbformat_minor": 5
}
