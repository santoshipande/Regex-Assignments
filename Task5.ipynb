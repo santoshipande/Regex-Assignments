{
 "cells": [
  {
   "cell_type": "markdown",
   "id": "15bdc52a",
   "metadata": {},
   "source": [
    "### Task 5\n",
    "### Registration/Referral id : AIRSS1150\n",
    "### Name : Santoshi Dinesh Pande"
   ]
  },
  {
   "cell_type": "markdown",
   "id": "bbf8653a",
   "metadata": {},
   "source": [
    "#### Q1 Given a list  of integers, write a function to return the sum of all prime numbers in that list"
   ]
  },
  {
   "cell_type": "code",
   "execution_count": 1,
   "id": "a8da4f0b",
   "metadata": {},
   "outputs": [
    {
     "name": "stdout",
     "output_type": "stream",
     "text": [
      "Sum of all prime numbers: 24\n"
     ]
    }
   ],
   "source": [
    "def Prime(list1):\n",
    "    s = 0\n",
    "    for num in list1:\n",
    "        i = 2\n",
    "        p = 1\n",
    "        while i <= num / 2:\n",
    "            if num % i == 0:\n",
    "                p = 0\n",
    "                break\n",
    "            i = i + 1\n",
    "        if p == 1:\n",
    "            s = s + num\n",
    "    return s\n",
    "\n",
    "\n",
    "list1 = [10, 11, 12, 13, 14, 15]\n",
    "s = Prime(list1)\n",
    "print(\"Sum of all prime numbers:\", s)"
   ]
  },
  {
   "cell_type": "markdown",
   "id": "96066c0f",
   "metadata": {},
   "source": [
    "#### Q2 Given a list of integers, write a function to check whether the list is strictly increasing or not"
   ]
  },
  {
   "cell_type": "code",
   "execution_count": 2,
   "id": "5b888737",
   "metadata": {},
   "outputs": [
    {
     "name": "stdout",
     "output_type": "stream",
     "text": [
      "True\n"
     ]
    }
   ],
   "source": [
    "class Solution:\n",
    "   def solve(self, nums):\n",
    "      if len(nums) <= 2:\n",
    "         return True\n",
    "      if len(set(nums)) != len(nums):\n",
    "         return False\n",
    "      ordered = sorted(nums)\n",
    "      return nums == ordered or nums == ordered[::-1]\n",
    "ob = Solution()\n",
    "print(ob.solve([10, 12, 23, 34, 55]))"
   ]
  },
  {
   "cell_type": "markdown",
   "id": "fb3f4592",
   "metadata": {},
   "source": [
    "#### Q3 Write a function to check whether a given list is expanding or not (the difference between adjacent elements should keep on increasing) "
   ]
  },
  {
   "cell_type": "code",
   "execution_count": 3,
   "id": "8f194e94",
   "metadata": {},
   "outputs": [
    {
     "data": {
      "text/plain": [
       "False"
      ]
     },
     "execution_count": 3,
     "metadata": {},
     "output_type": "execute_result"
    }
   ],
   "source": [
    "def expanding(l):\n",
    " for i in range(0,len(l)-2):\n",
    "  if (abs(l[i+2]-l[i+1])>abs(l[i+1]-l[i])):\n",
    "   Answer=True\n",
    "  else:\n",
    "   Answer=False\n",
    "   return Answer\n",
    " return Answer\n",
    "\n",
    "expanding([1,3,7,2,-3]) "
   ]
  },
  {
   "cell_type": "markdown",
   "id": "e05d3292",
   "metadata": {},
   "source": [
    " #### Q4 Write a function to calculate all permutations of a given string."
   ]
  },
  {
   "cell_type": "code",
   "execution_count": 4,
   "id": "0f83626e",
   "metadata": {},
   "outputs": [
    {
     "name": "stdout",
     "output_type": "stream",
     "text": [
      "yup\n",
      "ypu\n",
      "uyp\n",
      "upy\n",
      "puy\n",
      "pyu\n",
      "None\n"
     ]
    }
   ],
   "source": [
    "def get_permutation(string, i=0):\n",
    "\n",
    "    if i == len(string):   \t \n",
    "        print(\"\".join(string))\n",
    "\n",
    "    for j in range(i, len(string)):\n",
    "\n",
    "        words = [c for c in string]\n",
    "   \n",
    "        # swap\n",
    "        words[i], words[j] = words[j], words[i]\n",
    "   \t \n",
    "        get_permutation(words, i + 1)\n",
    "\n",
    "print(get_permutation('yup'))"
   ]
  },
  {
   "cell_type": "code",
   "execution_count": null,
   "id": "84e45f7a",
   "metadata": {},
   "outputs": [],
   "source": []
  }
 ],
 "metadata": {
  "kernelspec": {
   "display_name": "Python 3",
   "language": "python",
   "name": "python3"
  },
  "language_info": {
   "codemirror_mode": {
    "name": "ipython",
    "version": 3
   },
   "file_extension": ".py",
   "mimetype": "text/x-python",
   "name": "python",
   "nbconvert_exporter": "python",
   "pygments_lexer": "ipython3",
   "version": "3.8.8"
  }
 },
 "nbformat": 4,
 "nbformat_minor": 5
}
