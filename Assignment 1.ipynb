{
 "cells": [
  {
   "cell_type": "markdown",
   "id": "2657dd1a",
   "metadata": {},
   "source": [
    "# Task 1\n",
    "## Registration/Referral id = AIRSS1150\n",
    "## Full name = Santoshi Dinesh Pande\n",
    "\n"
   ]
  },
  {
   "cell_type": "code",
   "execution_count": null,
   "id": "df0035c2",
   "metadata": {},
   "outputs": [],
   "source": [
    "1.\n",
    "\n",
    "rows = int(input(\"Enter the number of rows: \")) \n",
    "num = rows\n",
    "\n",
    "for i in range(rows ,0 ,-1):\n",
    "    for j in range(0,i):\n",
    "        print(num , end= \" \")\n",
    "        \n",
    "    print(\"\\n\")"
   ]
  },
  {
   "cell_type": "code",
   "execution_count": null,
   "id": "2c5f2cd2",
   "metadata": {},
   "outputs": [],
   "source": [
    "2.\n",
    "\n",
    "rows = int(input(\"Enter the number of rows: \")) \n",
    "num = rows\n",
    "\n",
    "for i in range(rows ,0 ,-1):\n",
    "    for j in range(0,i+1):\n",
    "        \n",
    "        print(j, end= \" \")\n",
    "        \n",
    "    print(\"\\n\")"
   ]
  },
  {
   "cell_type": "code",
   "execution_count": null,
   "id": "602d2645",
   "metadata": {},
   "outputs": [],
   "source": [
    "3.\n",
    "\n",
    "rows = int(input(\"Enter the number of rows: \")) \n",
    "i = 1\n",
    "while i<= rows:\n",
    "    j=1\n",
    "    while j<=i:\n",
    "        print((i*2-1),end= '')\n",
    "        j= j+1\n",
    "    i = i+1\n",
    "    \n",
    "    print()"
   ]
  },
  {
   "cell_type": "code",
   "execution_count": null,
   "id": "2ad4bd19",
   "metadata": {},
   "outputs": [],
   "source": [
    "4.\n",
    "\n",
    "rows = int(input(\"Enter the number of rows: \"))  \n",
    "for i in range(rows):\n",
    "    for j in range( i+1,0,-1):\n",
    "        print(j, end=' ')\n",
    "    print(\"\")"
   ]
  },
  {
   "cell_type": "code",
   "execution_count": null,
   "id": "544ffd97",
   "metadata": {},
   "outputs": [],
   "source": [
    "5.\n",
    "\n",
    "start=1\n",
    "stop =2\n",
    "\n",
    "currentNumber= stop\n",
    "for row in range(2,6):\n",
    "    for col in range( start , stop):\n",
    "        currentNumber-=1\n",
    "        print(currentNumber, end=' ')\n",
    "    print(\" \")    \n",
    "    start =stop\n",
    "    stop +=row\n",
    "    currentNumber = stop"
   ]
  },
  {
   "cell_type": "code",
   "execution_count": null,
   "id": "8f0cc925",
   "metadata": {},
   "outputs": [],
   "source": [
    "6.\n",
    "def print_pascal_triangle(size):\n",
    "    for i in range(0, size):\n",
    "        for j in range(0, i + 1):\n",
    "            print(decide_number(i, j), end=\" \")\n",
    "        print()\n",
    "\n",
    "\n",
    "def decide_number(n, k):\n",
    "    num = 1\n",
    "    if k > n - k:\n",
    "        k = n - k\n",
    "    for i in range(0, k):\n",
    "        num = num * (n - i)\n",
    "        num = num // (i + 1)\n",
    "    return num\n",
    "\n",
    "rows = 7\n",
    "print_pascal_triangle(rows)"
   ]
  },
  {
   "cell_type": "code",
   "execution_count": null,
   "id": "01b073be",
   "metadata": {},
   "outputs": [],
   "source": [
    "7.\n",
    "\n",
    "rows = int(input(\"Enter the number of rows: \"))  \n",
    "for i in range(1, rows + 1):  \n",
    "    for j in range(1, rows + 1):  \n",
    "        if j <= i:  \n",
    "            print(i, end=' ')  \n",
    "        else:  \n",
    "            print(j, end=' ')  \n",
    "    print()  "
   ]
  },
  {
   "cell_type": "code",
   "execution_count": null,
   "id": "52c0b81d",
   "metadata": {},
   "outputs": [],
   "source": [
    "8.\n",
    "\n",
    "rows = int(input(\"Enter the number of rows: \"))  \n",
    "for i in range(1, rows):  \n",
    "    for j in range(1, i + 1):  \n",
    "        print(i * j, end='  ')  \n",
    "    print()  "
   ]
  },
  {
   "cell_type": "code",
   "execution_count": null,
   "id": "fe231a97",
   "metadata": {},
   "outputs": [],
   "source": [
    "9.\n",
    "\n",
    "rows = int(input(\"Enter the number of rows: \"))   \n",
    "k = 2 * rows - 2  \n",
    "for i in range(rows, -1, -1):   \n",
    "    for j in range(k, 0, -1):  \n",
    "        print(end=\" \")  \n",
    "    k = k + 1  \n",
    "    for j in range(0, i + 1):  \n",
    "        print(\"*\", end=\" \")  \n",
    "    print(\"\")  "
   ]
  },
  {
   "cell_type": "code",
   "execution_count": null,
   "id": "66268e5b",
   "metadata": {},
   "outputs": [],
   "source": [
    "10.\n",
    "\n",
    "n = int(input(\"Enter the number of rows: \"))  \n",
    "m = (2 * n) - 2  \n",
    "for i in range(0, n):  \n",
    "    for j in range(0, m):  \n",
    "        print(end=\" \")  \n",
    "    m = m - 1 \n",
    "    for j in range(0, i + 1):   \n",
    "        print(\"* \", end=' ')  \n",
    "    print(\" \")  "
   ]
  },
  {
   "cell_type": "code",
   "execution_count": null,
   "id": "abe7e3fc",
   "metadata": {},
   "outputs": [],
   "source": [
    "11.\n",
    "\n",
    "\n",
    "rows =int( input(\"Enter the number of rows: \"))\n",
    "                 \n",
    "\n",
    "for i in range(0, rows):  \n",
    "    for j in range(0, i + 1):  \n",
    "        print(\"*\", end=' ')  \n",
    "    print(\" \")\n",
    "    \n",
    "    \n",
    "    \n",
    "for i in range(rows + 1, 0, -1):  \n",
    "    for j in range(0, i - 1):  \n",
    "        print(\"*\", end=' ')  \n",
    "    print(\" \")  "
   ]
  },
  {
   "cell_type": "code",
   "execution_count": null,
   "id": "62eca323",
   "metadata": {},
   "outputs": [],
   "source": [
    "12.\n",
    "\n",
    "row = int(input(\"Enter number of rows: \"))\n",
    "for i in range(0, rows):\n",
    "    for j in range(0, i + 1):\n",
    "        print(\"*\", end=' ')\n",
    "    print(\"\\r\")\n",
    "\n",
    "for i in range(rows, 0, -1):\n",
    "    for j in range(0, i - 1):\n",
    "        print(\"*\", end=' ')\n",
    "    print(\"\\r\")"
   ]
  },
  {
   "cell_type": "code",
   "execution_count": null,
   "id": "9ac84ed6",
   "metadata": {},
   "outputs": [],
   "source": [
    "13.\n",
    "\n",
    "\n",
    "row = int(input(\"Enter number of rows: \"))\n",
    "i = 1\n",
    "while i <= rows:\n",
    "    j = i\n",
    "    while j < rows:\n",
    "    \n",
    "        print(' ', end=' ')\n",
    "        j += 1\n",
    "    k = 1\n",
    "    while k <= i:\n",
    "        print('*', end=' ')\n",
    "        k += 1\n",
    "    print()\n",
    "    i += 1\n",
    "\n",
    "i = rows\n",
    "while i >= 1:\n",
    "    j = i\n",
    "    while j <= rows:\n",
    "        print(' ', end=' ')\n",
    "        j += 1\n",
    "    k = 1\n",
    "    while k < i:\n",
    "        print('*', end=' ')\n",
    "        k += 1\n",
    "    print('')\n",
    "    i -= 1"
   ]
  },
  {
   "cell_type": "code",
   "execution_count": null,
   "id": "8af697b2",
   "metadata": {},
   "outputs": [],
   "source": [
    "14.\n",
    "\n",
    "\n",
    "row = int(input(\"Enter number of rows: \"))\n",
    "\n",
    "\n",
    "for i in range(row, 0, -1):\n",
    "    for j in range(row-i):\n",
    "        print(\" \", end=\"\")\n",
    "    for j in range(1, 2*i):\n",
    "        print(\"*\", end=\"\")\n",
    "    print()\n",
    "    \n",
    "for i in range(2, row+1):\n",
    "    for j in range(row-i):\n",
    "        print(\" \", end=\"\")\n",
    "    for j in range(1, 2*i):\n",
    "        print(\"*\", end=\"\")\n",
    "    print()"
   ]
  },
  {
   "cell_type": "code",
   "execution_count": null,
   "id": "40008a7a",
   "metadata": {},
   "outputs": [],
   "source": [
    "15.\n",
    "\n",
    "row = int(input(\"Enter number of rows: \"))\n",
    "print(\"*\" * row, end=\"\\n\")\n",
    "i = (row // 2) - 1\n",
    "j = 2\n",
    "while i != 0:\n",
    "    while j <= (row - 2):\n",
    "        print(\"*\" * i, end=\"\")\n",
    "        print(\"_\" * j, end=\"\")\n",
    "        print(\"*\" * i, end=\"\\n\")\n",
    "        i = i - 1\n",
    "        j = j + 2"
   ]
  },
  {
   "cell_type": "code",
   "execution_count": null,
   "id": "4b2150ba",
   "metadata": {},
   "outputs": [],
   "source": []
  }
 ],
 "metadata": {
  "kernelspec": {
   "display_name": "Python 3",
   "language": "python",
   "name": "python3"
  },
  "language_info": {
   "codemirror_mode": {
    "name": "ipython",
    "version": 3
   },
   "file_extension": ".py",
   "mimetype": "text/x-python",
   "name": "python",
   "nbconvert_exporter": "python",
   "pygments_lexer": "ipython3",
   "version": "3.8.8"
  }
 },
 "nbformat": 4,
 "nbformat_minor": 5
}
